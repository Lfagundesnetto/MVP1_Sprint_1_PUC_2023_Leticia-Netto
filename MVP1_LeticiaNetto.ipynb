{
  "nbformat": 4,
  "nbformat_minor": 0,
  "metadata": {
    "colab": {
      "provenance": [],
      "toc_visible": true,
      "mount_file_id": "1NRq_F43BEZu0N5fAUwu4l56OyVVJcMWJ",
      "authorship_tag": "ABX9TyO8yqz97AYX+PCzEQsTYc/i",
      "include_colab_link": true
    },
    "kernelspec": {
      "name": "python3",
      "display_name": "Python 3"
    },
    "language_info": {
      "name": "python"
    }
  },
  "cells": [
    {
      "cell_type": "markdown",
      "metadata": {
        "id": "view-in-github",
        "colab_type": "text"
      },
      "source": [
        "<a href=\"https://colab.research.google.com/github/Lfagundesnetto/MVP1_Sprint_1_PUC_2023_Leticia-Netto/blob/main/MVP1_LeticiaNetto.ipynb\" target=\"_parent\"><img src=\"https://colab.research.google.com/assets/colab-badge.svg\" alt=\"Open In Colab\"/></a>"
      ]
    },
    {
      "cell_type": "markdown",
      "source": [
        "# **MVP - Sprint I**\n",
        "*Leticia Fagundes Netto*\n",
        "\n",
        "---\n",
        "## Overview: Suícidios no Brasil\n"
      ],
      "metadata": {
        "id": "nM3fXDP0L-Ex"
      }
    },
    {
      "cell_type": "markdown",
      "source": [
        "##**Definições da Análise**\n",
        "\n",
        "**O Problema**\n",
        "\n",
        "O trabalho busca realizar uma análise exploratória sobre o suicídio.\n",
        "\n",
        "Analisando o comportamento histório desse problema no Brasil e como ele difere e/ou se assemelha aos dados globais. \n",
        "\n",
        "---\n",
        "**Aprendizado Não Supervisionado**\n",
        "\n",
        "Como, nesse primeiro momento, se trata de uma Análise Exploratória, o aprendizado da pesquisa é o ***Não Supervisionado***.\n",
        "\n",
        "Ou seja, não existem saídas desejadas a serem estimadas. O aprendizado explora os dados afim de identificar como eles se relacionam."
      ],
      "metadata": {
        "id": "AW0xtMHCM12L"
      }
    },
    {
      "cell_type": "markdown",
      "source": [
        "### **Dataset: Base de Dados**\n",
        "\n",
        "**Dataset:** [Suicide Rates Overview (1985 to 2021)](https://www.kaggle.com/datasets/omkargowda/suicide-rates-overview-1985-to-2021)\n",
        "\n",
        "Fonte: Site Kaggle \n",
        " \n",
        "*Dataset Original: [Suicide Rates Overview 1985 to 2016](https://www.kaggle.com/datasets/russellyates88/suicide-rates-overview-1985-to-2016)* \n",
        "\n",
        "*Base original do Dataset usado (que está mais atualizado)* \n",
        " \n",
        "*License: [World Bank Dataset Terms of Use](https://www.worldbank.org/en/about/legal/terms-of-use-for-datasets)*\n"
      ],
      "metadata": {
        "id": "vQ1qS9FNf-o8"
      }
    },
    {
      "cell_type": "code",
      "source": [
        "#Importa pacotes\n",
        "import numpy as np\n",
        "import pandas as pd               \n",
        "import matplotlib.pyplot as plt   \n",
        "import seaborn as sns             \n",
        "\n",
        "%matplotlib inline\n",
        "\n",
        "#Importa dataset salvo no github\n",
        "df = pd.read_csv(\"https://raw.githubusercontent.com/Lfagundesnetto/MVP1_Sprint_1_PUC_2023_Leticia-Netto/main/dataset_suicide_rates_85_21.csv\")\n",
        "\n",
        "\n",
        "     "
      ],
      "metadata": {
        "id": "6Ks5Yoa86y9O"
      },
      "execution_count": 159,
      "outputs": []
    },
    {
      "cell_type": "markdown",
      "source": [
        "## **Análise dos Dados**"
      ],
      "metadata": {
        "id": "r21ykd3wgIiQ"
      }
    },
    {
      "cell_type": "markdown",
      "source": [
        "**Atributos do Dataset**\n",
        "\n",
        "*   Country (País)\n",
        "\n",
        "*   Year (Ano)\n",
        "\n",
        "*   Sex (Sexo)\n",
        "\n",
        "*   Age (Idade)\n",
        "\n",
        "*   Suicides_no (Número de Suicídios)\n",
        "\n",
        "*   Population (População)\n",
        "\n",
        "*   Suicides/100K population (Suícidios/100K População)\n",
        "\n",
        "*   Country-Year Key (ID: País-Ano)\n",
        "\n",
        "*   HDI for Year (IDH Anual)\n",
        "\n",
        "*   GDP for Year (PIB Anual)\n",
        "\n",
        "*   GDP per Capita (PIB per Capita)\n",
        "\n",
        "*   Generation (Geração)\n",
        "\n",
        "\n",
        "\n",
        "\n",
        "\n",
        "\n",
        "\n"
      ],
      "metadata": {
        "id": "04BrSPxZZ6Q9"
      }
    },
    {
      "cell_type": "code",
      "source": [
        "#Dimensões da Base\n",
        "df.shape #(31756, 12)\n",
        "\n",
        "#Informações da Base - Colunas / Tipo de Dados (Sumário)\n",
        "df.info()\n"
      ],
      "metadata": {
        "colab": {
          "base_uri": "https://localhost:8080/"
        },
        "id": "TaNJtJsGak0m",
        "outputId": "99315db6-42d7-4a1e-f5e4-27d8692afd9c"
      },
      "execution_count": 160,
      "outputs": [
        {
          "output_type": "stream",
          "name": "stdout",
          "text": [
            "<class 'pandas.core.frame.DataFrame'>\n",
            "RangeIndex: 31756 entries, 0 to 31755\n",
            "Data columns (total 12 columns):\n",
            " #   Column              Non-Null Count  Dtype  \n",
            "---  ------              --------------  -----  \n",
            " 0   country             31756 non-null  object \n",
            " 1   year                31756 non-null  int64  \n",
            " 2   sex                 31756 non-null  object \n",
            " 3   age                 31756 non-null  object \n",
            " 4   suicides_no         30556 non-null  float64\n",
            " 5   population          31756 non-null  int64  \n",
            " 6   suicides/100k pop   31756 non-null  float64\n",
            " 7   country-year        31756 non-null  object \n",
            " 8   HDI for year        12300 non-null  float64\n",
            " 9    gdp_for_year ($)   31756 non-null  object \n",
            " 10  gdp_per_capita ($)  31756 non-null  float64\n",
            " 11  generation          31756 non-null  object \n",
            "dtypes: float64(4), int64(2), object(6)\n",
            "memory usage: 2.9+ MB\n"
          ]
        }
      ]
    },
    {
      "cell_type": "markdown",
      "source": [
        "*Tipos de Dados presente na Base: Float ou Pontos Flutuantes (números reais), Inteiros (números inteiros) e Strings  (sequência de: letras, números, símbolos)*\n"
      ],
      "metadata": {
        "id": "LkAXRkDdwBbV"
      }
    },
    {
      "cell_type": "code",
      "source": [
        "# 5 Primeiras Linhas da Base\n",
        "df.head(5)\n"
      ],
      "metadata": {
        "colab": {
          "base_uri": "https://localhost:8080/",
          "height": 206
        },
        "id": "YRd5w5u6iGLZ",
        "outputId": "f9a688c4-7e7a-44b4-81e5-6eddb90b96a0"
      },
      "execution_count": 161,
      "outputs": [
        {
          "output_type": "execute_result",
          "data": {
            "text/plain": [
              "   country  year     sex          age  suicides_no  population  \\\n",
              "0  Albania  1987    male  15-24 years         21.0      312900   \n",
              "1  Albania  1987    male  35-54 years         16.0      308000   \n",
              "2  Albania  1987  female  15-24 years         14.0      289700   \n",
              "3  Albania  1987    male    75+ years          1.0       21800   \n",
              "4  Albania  1987    male  25-34 years          9.0      274300   \n",
              "\n",
              "   suicides/100k pop country-year  HDI for year  gdp_for_year ($)   \\\n",
              "0               6.71  Albania1987           NaN     2,15,66,24,900   \n",
              "1               5.19  Albania1987           NaN     2,15,66,24,900   \n",
              "2               4.83  Albania1987           NaN     2,15,66,24,900   \n",
              "3               4.59  Albania1987           NaN     2,15,66,24,900   \n",
              "4               3.28  Albania1987           NaN     2,15,66,24,900   \n",
              "\n",
              "   gdp_per_capita ($)       generation  \n",
              "0               796.0     Generation X  \n",
              "1               796.0           Silent  \n",
              "2               796.0     Generation X  \n",
              "3               796.0  G.I. Generation  \n",
              "4               796.0          Boomers  "
            ],
            "text/html": [
              "\n",
              "  <div id=\"df-566ab8c1-399c-4f4e-a6ae-0f1d6273a9f5\">\n",
              "    <div class=\"colab-df-container\">\n",
              "      <div>\n",
              "<style scoped>\n",
              "    .dataframe tbody tr th:only-of-type {\n",
              "        vertical-align: middle;\n",
              "    }\n",
              "\n",
              "    .dataframe tbody tr th {\n",
              "        vertical-align: top;\n",
              "    }\n",
              "\n",
              "    .dataframe thead th {\n",
              "        text-align: right;\n",
              "    }\n",
              "</style>\n",
              "<table border=\"1\" class=\"dataframe\">\n",
              "  <thead>\n",
              "    <tr style=\"text-align: right;\">\n",
              "      <th></th>\n",
              "      <th>country</th>\n",
              "      <th>year</th>\n",
              "      <th>sex</th>\n",
              "      <th>age</th>\n",
              "      <th>suicides_no</th>\n",
              "      <th>population</th>\n",
              "      <th>suicides/100k pop</th>\n",
              "      <th>country-year</th>\n",
              "      <th>HDI for year</th>\n",
              "      <th>gdp_for_year ($)</th>\n",
              "      <th>gdp_per_capita ($)</th>\n",
              "      <th>generation</th>\n",
              "    </tr>\n",
              "  </thead>\n",
              "  <tbody>\n",
              "    <tr>\n",
              "      <th>0</th>\n",
              "      <td>Albania</td>\n",
              "      <td>1987</td>\n",
              "      <td>male</td>\n",
              "      <td>15-24 years</td>\n",
              "      <td>21.0</td>\n",
              "      <td>312900</td>\n",
              "      <td>6.71</td>\n",
              "      <td>Albania1987</td>\n",
              "      <td>NaN</td>\n",
              "      <td>2,15,66,24,900</td>\n",
              "      <td>796.0</td>\n",
              "      <td>Generation X</td>\n",
              "    </tr>\n",
              "    <tr>\n",
              "      <th>1</th>\n",
              "      <td>Albania</td>\n",
              "      <td>1987</td>\n",
              "      <td>male</td>\n",
              "      <td>35-54 years</td>\n",
              "      <td>16.0</td>\n",
              "      <td>308000</td>\n",
              "      <td>5.19</td>\n",
              "      <td>Albania1987</td>\n",
              "      <td>NaN</td>\n",
              "      <td>2,15,66,24,900</td>\n",
              "      <td>796.0</td>\n",
              "      <td>Silent</td>\n",
              "    </tr>\n",
              "    <tr>\n",
              "      <th>2</th>\n",
              "      <td>Albania</td>\n",
              "      <td>1987</td>\n",
              "      <td>female</td>\n",
              "      <td>15-24 years</td>\n",
              "      <td>14.0</td>\n",
              "      <td>289700</td>\n",
              "      <td>4.83</td>\n",
              "      <td>Albania1987</td>\n",
              "      <td>NaN</td>\n",
              "      <td>2,15,66,24,900</td>\n",
              "      <td>796.0</td>\n",
              "      <td>Generation X</td>\n",
              "    </tr>\n",
              "    <tr>\n",
              "      <th>3</th>\n",
              "      <td>Albania</td>\n",
              "      <td>1987</td>\n",
              "      <td>male</td>\n",
              "      <td>75+ years</td>\n",
              "      <td>1.0</td>\n",
              "      <td>21800</td>\n",
              "      <td>4.59</td>\n",
              "      <td>Albania1987</td>\n",
              "      <td>NaN</td>\n",
              "      <td>2,15,66,24,900</td>\n",
              "      <td>796.0</td>\n",
              "      <td>G.I. Generation</td>\n",
              "    </tr>\n",
              "    <tr>\n",
              "      <th>4</th>\n",
              "      <td>Albania</td>\n",
              "      <td>1987</td>\n",
              "      <td>male</td>\n",
              "      <td>25-34 years</td>\n",
              "      <td>9.0</td>\n",
              "      <td>274300</td>\n",
              "      <td>3.28</td>\n",
              "      <td>Albania1987</td>\n",
              "      <td>NaN</td>\n",
              "      <td>2,15,66,24,900</td>\n",
              "      <td>796.0</td>\n",
              "      <td>Boomers</td>\n",
              "    </tr>\n",
              "  </tbody>\n",
              "</table>\n",
              "</div>\n",
              "      <button class=\"colab-df-convert\" onclick=\"convertToInteractive('df-566ab8c1-399c-4f4e-a6ae-0f1d6273a9f5')\"\n",
              "              title=\"Convert this dataframe to an interactive table.\"\n",
              "              style=\"display:none;\">\n",
              "        \n",
              "  <svg xmlns=\"http://www.w3.org/2000/svg\" height=\"24px\"viewBox=\"0 0 24 24\"\n",
              "       width=\"24px\">\n",
              "    <path d=\"M0 0h24v24H0V0z\" fill=\"none\"/>\n",
              "    <path d=\"M18.56 5.44l.94 2.06.94-2.06 2.06-.94-2.06-.94-.94-2.06-.94 2.06-2.06.94zm-11 1L8.5 8.5l.94-2.06 2.06-.94-2.06-.94L8.5 2.5l-.94 2.06-2.06.94zm10 10l.94 2.06.94-2.06 2.06-.94-2.06-.94-.94-2.06-.94 2.06-2.06.94z\"/><path d=\"M17.41 7.96l-1.37-1.37c-.4-.4-.92-.59-1.43-.59-.52 0-1.04.2-1.43.59L10.3 9.45l-7.72 7.72c-.78.78-.78 2.05 0 2.83L4 21.41c.39.39.9.59 1.41.59.51 0 1.02-.2 1.41-.59l7.78-7.78 2.81-2.81c.8-.78.8-2.07 0-2.86zM5.41 20L4 18.59l7.72-7.72 1.47 1.35L5.41 20z\"/>\n",
              "  </svg>\n",
              "      </button>\n",
              "      \n",
              "  <style>\n",
              "    .colab-df-container {\n",
              "      display:flex;\n",
              "      flex-wrap:wrap;\n",
              "      gap: 12px;\n",
              "    }\n",
              "\n",
              "    .colab-df-convert {\n",
              "      background-color: #E8F0FE;\n",
              "      border: none;\n",
              "      border-radius: 50%;\n",
              "      cursor: pointer;\n",
              "      display: none;\n",
              "      fill: #1967D2;\n",
              "      height: 32px;\n",
              "      padding: 0 0 0 0;\n",
              "      width: 32px;\n",
              "    }\n",
              "\n",
              "    .colab-df-convert:hover {\n",
              "      background-color: #E2EBFA;\n",
              "      box-shadow: 0px 1px 2px rgba(60, 64, 67, 0.3), 0px 1px 3px 1px rgba(60, 64, 67, 0.15);\n",
              "      fill: #174EA6;\n",
              "    }\n",
              "\n",
              "    [theme=dark] .colab-df-convert {\n",
              "      background-color: #3B4455;\n",
              "      fill: #D2E3FC;\n",
              "    }\n",
              "\n",
              "    [theme=dark] .colab-df-convert:hover {\n",
              "      background-color: #434B5C;\n",
              "      box-shadow: 0px 1px 3px 1px rgba(0, 0, 0, 0.15);\n",
              "      filter: drop-shadow(0px 1px 2px rgba(0, 0, 0, 0.3));\n",
              "      fill: #FFFFFF;\n",
              "    }\n",
              "  </style>\n",
              "\n",
              "      <script>\n",
              "        const buttonEl =\n",
              "          document.querySelector('#df-566ab8c1-399c-4f4e-a6ae-0f1d6273a9f5 button.colab-df-convert');\n",
              "        buttonEl.style.display =\n",
              "          google.colab.kernel.accessAllowed ? 'block' : 'none';\n",
              "\n",
              "        async function convertToInteractive(key) {\n",
              "          const element = document.querySelector('#df-566ab8c1-399c-4f4e-a6ae-0f1d6273a9f5');\n",
              "          const dataTable =\n",
              "            await google.colab.kernel.invokeFunction('convertToInteractive',\n",
              "                                                     [key], {});\n",
              "          if (!dataTable) return;\n",
              "\n",
              "          const docLinkHtml = 'Like what you see? Visit the ' +\n",
              "            '<a target=\"_blank\" href=https://colab.research.google.com/notebooks/data_table.ipynb>data table notebook</a>'\n",
              "            + ' to learn more about interactive tables.';\n",
              "          element.innerHTML = '';\n",
              "          dataTable['output_type'] = 'display_data';\n",
              "          await google.colab.output.renderOutput(dataTable, element);\n",
              "          const docLink = document.createElement('div');\n",
              "          docLink.innerHTML = docLinkHtml;\n",
              "          element.appendChild(docLink);\n",
              "        }\n",
              "      </script>\n",
              "    </div>\n",
              "  </div>\n",
              "  "
            ]
          },
          "metadata": {},
          "execution_count": 161
        }
      ]
    },
    {
      "cell_type": "code",
      "source": [
        "df.isnull().sum()  #identifica as linhas nulas por coluna\n",
        "\n"
      ],
      "metadata": {
        "colab": {
          "base_uri": "https://localhost:8080/"
        },
        "id": "Mk7zMI8Qif4_",
        "outputId": "448a6a28-0e58-47aa-d163-5247490770c5"
      },
      "execution_count": 162,
      "outputs": [
        {
          "output_type": "execute_result",
          "data": {
            "text/plain": [
              "country                   0\n",
              "year                      0\n",
              "sex                       0\n",
              "age                       0\n",
              "suicides_no            1200\n",
              "population                0\n",
              "suicides/100k pop         0\n",
              "country-year              0\n",
              "HDI for year          19456\n",
              " gdp_for_year ($)         0\n",
              "gdp_per_capita ($)        0\n",
              "generation                0\n",
              "dtype: int64"
            ]
          },
          "metadata": {},
          "execution_count": 162
        }
      ]
    },
    {
      "cell_type": "code",
      "source": [
        "#Checando por dados duplicados\n",
        "print(df.duplicated().sum())"
      ],
      "metadata": {
        "colab": {
          "base_uri": "https://localhost:8080/"
        },
        "id": "ZODeQjdTTN4F",
        "outputId": "395ab5ae-4a12-477e-becf-b7db1314e65c"
      },
      "execution_count": 163,
      "outputs": [
        {
          "output_type": "stream",
          "name": "stdout",
          "text": [
            "0\n"
          ]
        }
      ]
    },
    {
      "cell_type": "markdown",
      "source": [
        "### Formatação dos Dados"
      ],
      "metadata": {
        "id": "SGUFu46NInKb"
      }
    },
    {
      "cell_type": "code",
      "source": [
        "#Renomear Colunas\n",
        "df.columns=['Country','Year','Gender','Age','SuicidesNo','Population','Suicides/100KPop','CountryYear','HDIForYear','GdpForYear','GdpPerCapita','Generation']"
      ],
      "metadata": {
        "id": "QgFNeXS7KG2O"
      },
      "execution_count": 164,
      "outputs": []
    },
    {
      "cell_type": "code",
      "source": [
        "#Substituir null por zero\n",
        "df['SuicidesNo']=df['SuicidesNo'].fillna(0)\n",
        "\n",
        "#Remover Coluna: HDI for year\n",
        "df.drop('HDIForYear', axis='columns', inplace=True)\n"
      ],
      "metadata": {
        "id": "fNAw11Ezk9Bb"
      },
      "execution_count": 165,
      "outputs": []
    },
    {
      "cell_type": "code",
      "source": [
        "#Substituir Float por Números Inteiros\n",
        "df['SuicidesNo']=df['SuicidesNo'].astype(int)\n",
        "\n",
        "df['GdpPerCapita']=df['GdpPerCapita'].astype(int)\n"
      ],
      "metadata": {
        "id": "_p6hofKdGwuc"
      },
      "execution_count": 166,
      "outputs": []
    },
    {
      "cell_type": "code",
      "source": [
        "#Tipos de Dados (Sumário)\n",
        "df.dtypes"
      ],
      "metadata": {
        "colab": {
          "base_uri": "https://localhost:8080/"
        },
        "id": "m8x14T3HIt3X",
        "outputId": "a49a500f-e4f9-45f1-b6e6-1cf24180a746"
      },
      "execution_count": 167,
      "outputs": [
        {
          "output_type": "execute_result",
          "data": {
            "text/plain": [
              "Country              object\n",
              "Year                  int64\n",
              "Gender               object\n",
              "Age                  object\n",
              "SuicidesNo            int64\n",
              "Population            int64\n",
              "Suicides/100KPop    float64\n",
              "CountryYear          object\n",
              "GdpForYear           object\n",
              "GdpPerCapita          int64\n",
              "Generation           object\n",
              "dtype: object"
            ]
          },
          "metadata": {},
          "execution_count": 167
        }
      ]
    },
    {
      "cell_type": "code",
      "source": [
        "df.head(5)"
      ],
      "metadata": {
        "colab": {
          "base_uri": "https://localhost:8080/",
          "height": 206
        },
        "id": "4cEq9BD3NBil",
        "outputId": "b3dde056-a2cb-4bba-d4f0-bfbefd4e2c30"
      },
      "execution_count": 168,
      "outputs": [
        {
          "output_type": "execute_result",
          "data": {
            "text/plain": [
              "   Country  Year  Gender          Age  SuicidesNo  Population  \\\n",
              "0  Albania  1987    male  15-24 years          21      312900   \n",
              "1  Albania  1987    male  35-54 years          16      308000   \n",
              "2  Albania  1987  female  15-24 years          14      289700   \n",
              "3  Albania  1987    male    75+ years           1       21800   \n",
              "4  Albania  1987    male  25-34 years           9      274300   \n",
              "\n",
              "   Suicides/100KPop  CountryYear      GdpForYear  GdpPerCapita  \\\n",
              "0              6.71  Albania1987  2,15,66,24,900           796   \n",
              "1              5.19  Albania1987  2,15,66,24,900           796   \n",
              "2              4.83  Albania1987  2,15,66,24,900           796   \n",
              "3              4.59  Albania1987  2,15,66,24,900           796   \n",
              "4              3.28  Albania1987  2,15,66,24,900           796   \n",
              "\n",
              "        Generation  \n",
              "0     Generation X  \n",
              "1           Silent  \n",
              "2     Generation X  \n",
              "3  G.I. Generation  \n",
              "4          Boomers  "
            ],
            "text/html": [
              "\n",
              "  <div id=\"df-1c0d2abd-110e-42b6-aebc-e076a2635de2\">\n",
              "    <div class=\"colab-df-container\">\n",
              "      <div>\n",
              "<style scoped>\n",
              "    .dataframe tbody tr th:only-of-type {\n",
              "        vertical-align: middle;\n",
              "    }\n",
              "\n",
              "    .dataframe tbody tr th {\n",
              "        vertical-align: top;\n",
              "    }\n",
              "\n",
              "    .dataframe thead th {\n",
              "        text-align: right;\n",
              "    }\n",
              "</style>\n",
              "<table border=\"1\" class=\"dataframe\">\n",
              "  <thead>\n",
              "    <tr style=\"text-align: right;\">\n",
              "      <th></th>\n",
              "      <th>Country</th>\n",
              "      <th>Year</th>\n",
              "      <th>Gender</th>\n",
              "      <th>Age</th>\n",
              "      <th>SuicidesNo</th>\n",
              "      <th>Population</th>\n",
              "      <th>Suicides/100KPop</th>\n",
              "      <th>CountryYear</th>\n",
              "      <th>GdpForYear</th>\n",
              "      <th>GdpPerCapita</th>\n",
              "      <th>Generation</th>\n",
              "    </tr>\n",
              "  </thead>\n",
              "  <tbody>\n",
              "    <tr>\n",
              "      <th>0</th>\n",
              "      <td>Albania</td>\n",
              "      <td>1987</td>\n",
              "      <td>male</td>\n",
              "      <td>15-24 years</td>\n",
              "      <td>21</td>\n",
              "      <td>312900</td>\n",
              "      <td>6.71</td>\n",
              "      <td>Albania1987</td>\n",
              "      <td>2,15,66,24,900</td>\n",
              "      <td>796</td>\n",
              "      <td>Generation X</td>\n",
              "    </tr>\n",
              "    <tr>\n",
              "      <th>1</th>\n",
              "      <td>Albania</td>\n",
              "      <td>1987</td>\n",
              "      <td>male</td>\n",
              "      <td>35-54 years</td>\n",
              "      <td>16</td>\n",
              "      <td>308000</td>\n",
              "      <td>5.19</td>\n",
              "      <td>Albania1987</td>\n",
              "      <td>2,15,66,24,900</td>\n",
              "      <td>796</td>\n",
              "      <td>Silent</td>\n",
              "    </tr>\n",
              "    <tr>\n",
              "      <th>2</th>\n",
              "      <td>Albania</td>\n",
              "      <td>1987</td>\n",
              "      <td>female</td>\n",
              "      <td>15-24 years</td>\n",
              "      <td>14</td>\n",
              "      <td>289700</td>\n",
              "      <td>4.83</td>\n",
              "      <td>Albania1987</td>\n",
              "      <td>2,15,66,24,900</td>\n",
              "      <td>796</td>\n",
              "      <td>Generation X</td>\n",
              "    </tr>\n",
              "    <tr>\n",
              "      <th>3</th>\n",
              "      <td>Albania</td>\n",
              "      <td>1987</td>\n",
              "      <td>male</td>\n",
              "      <td>75+ years</td>\n",
              "      <td>1</td>\n",
              "      <td>21800</td>\n",
              "      <td>4.59</td>\n",
              "      <td>Albania1987</td>\n",
              "      <td>2,15,66,24,900</td>\n",
              "      <td>796</td>\n",
              "      <td>G.I. Generation</td>\n",
              "    </tr>\n",
              "    <tr>\n",
              "      <th>4</th>\n",
              "      <td>Albania</td>\n",
              "      <td>1987</td>\n",
              "      <td>male</td>\n",
              "      <td>25-34 years</td>\n",
              "      <td>9</td>\n",
              "      <td>274300</td>\n",
              "      <td>3.28</td>\n",
              "      <td>Albania1987</td>\n",
              "      <td>2,15,66,24,900</td>\n",
              "      <td>796</td>\n",
              "      <td>Boomers</td>\n",
              "    </tr>\n",
              "  </tbody>\n",
              "</table>\n",
              "</div>\n",
              "      <button class=\"colab-df-convert\" onclick=\"convertToInteractive('df-1c0d2abd-110e-42b6-aebc-e076a2635de2')\"\n",
              "              title=\"Convert this dataframe to an interactive table.\"\n",
              "              style=\"display:none;\">\n",
              "        \n",
              "  <svg xmlns=\"http://www.w3.org/2000/svg\" height=\"24px\"viewBox=\"0 0 24 24\"\n",
              "       width=\"24px\">\n",
              "    <path d=\"M0 0h24v24H0V0z\" fill=\"none\"/>\n",
              "    <path d=\"M18.56 5.44l.94 2.06.94-2.06 2.06-.94-2.06-.94-.94-2.06-.94 2.06-2.06.94zm-11 1L8.5 8.5l.94-2.06 2.06-.94-2.06-.94L8.5 2.5l-.94 2.06-2.06.94zm10 10l.94 2.06.94-2.06 2.06-.94-2.06-.94-.94-2.06-.94 2.06-2.06.94z\"/><path d=\"M17.41 7.96l-1.37-1.37c-.4-.4-.92-.59-1.43-.59-.52 0-1.04.2-1.43.59L10.3 9.45l-7.72 7.72c-.78.78-.78 2.05 0 2.83L4 21.41c.39.39.9.59 1.41.59.51 0 1.02-.2 1.41-.59l7.78-7.78 2.81-2.81c.8-.78.8-2.07 0-2.86zM5.41 20L4 18.59l7.72-7.72 1.47 1.35L5.41 20z\"/>\n",
              "  </svg>\n",
              "      </button>\n",
              "      \n",
              "  <style>\n",
              "    .colab-df-container {\n",
              "      display:flex;\n",
              "      flex-wrap:wrap;\n",
              "      gap: 12px;\n",
              "    }\n",
              "\n",
              "    .colab-df-convert {\n",
              "      background-color: #E8F0FE;\n",
              "      border: none;\n",
              "      border-radius: 50%;\n",
              "      cursor: pointer;\n",
              "      display: none;\n",
              "      fill: #1967D2;\n",
              "      height: 32px;\n",
              "      padding: 0 0 0 0;\n",
              "      width: 32px;\n",
              "    }\n",
              "\n",
              "    .colab-df-convert:hover {\n",
              "      background-color: #E2EBFA;\n",
              "      box-shadow: 0px 1px 2px rgba(60, 64, 67, 0.3), 0px 1px 3px 1px rgba(60, 64, 67, 0.15);\n",
              "      fill: #174EA6;\n",
              "    }\n",
              "\n",
              "    [theme=dark] .colab-df-convert {\n",
              "      background-color: #3B4455;\n",
              "      fill: #D2E3FC;\n",
              "    }\n",
              "\n",
              "    [theme=dark] .colab-df-convert:hover {\n",
              "      background-color: #434B5C;\n",
              "      box-shadow: 0px 1px 3px 1px rgba(0, 0, 0, 0.15);\n",
              "      filter: drop-shadow(0px 1px 2px rgba(0, 0, 0, 0.3));\n",
              "      fill: #FFFFFF;\n",
              "    }\n",
              "  </style>\n",
              "\n",
              "      <script>\n",
              "        const buttonEl =\n",
              "          document.querySelector('#df-1c0d2abd-110e-42b6-aebc-e076a2635de2 button.colab-df-convert');\n",
              "        buttonEl.style.display =\n",
              "          google.colab.kernel.accessAllowed ? 'block' : 'none';\n",
              "\n",
              "        async function convertToInteractive(key) {\n",
              "          const element = document.querySelector('#df-1c0d2abd-110e-42b6-aebc-e076a2635de2');\n",
              "          const dataTable =\n",
              "            await google.colab.kernel.invokeFunction('convertToInteractive',\n",
              "                                                     [key], {});\n",
              "          if (!dataTable) return;\n",
              "\n",
              "          const docLinkHtml = 'Like what you see? Visit the ' +\n",
              "            '<a target=\"_blank\" href=https://colab.research.google.com/notebooks/data_table.ipynb>data table notebook</a>'\n",
              "            + ' to learn more about interactive tables.';\n",
              "          element.innerHTML = '';\n",
              "          dataTable['output_type'] = 'display_data';\n",
              "          await google.colab.output.renderOutput(dataTable, element);\n",
              "          const docLink = document.createElement('div');\n",
              "          docLink.innerHTML = docLinkHtml;\n",
              "          element.appendChild(docLink);\n",
              "        }\n",
              "      </script>\n",
              "    </div>\n",
              "  </div>\n",
              "  "
            ]
          },
          "metadata": {},
          "execution_count": 168
        }
      ]
    },
    {
      "cell_type": "markdown",
      "source": [
        "### **DataFrame - Brasil**\n",
        "\n",
        "Filtrando os dados brasileiros.\n",
        "Criação de uma base exclusivamente brasileira"
      ],
      "metadata": {
        "id": "L1OC1NVosBzj"
      }
    },
    {
      "cell_type": "code",
      "source": [
        "df_br = df[df['Country']=='Brazil']\n",
        "\n",
        "#Dimensões da Base Brasileira\n",
        "df_br.shape   #(420, 11)"
      ],
      "metadata": {
        "colab": {
          "base_uri": "https://localhost:8080/"
        },
        "id": "KzQHC_H4sp48",
        "outputId": "b91bd290-a98c-408a-8a0c-469757342d5f"
      },
      "execution_count": 169,
      "outputs": [
        {
          "output_type": "execute_result",
          "data": {
            "text/plain": [
              "(420, 11)"
            ]
          },
          "metadata": {},
          "execution_count": 169
        }
      ]
    },
    {
      "cell_type": "code",
      "source": [
        "df_br.info()\n"
      ],
      "metadata": {
        "colab": {
          "base_uri": "https://localhost:8080/"
        },
        "id": "5QhAgFnyHHeg",
        "outputId": "e937dd06-cb7f-4cd7-9cfc-6283084feab0"
      },
      "execution_count": 170,
      "outputs": [
        {
          "output_type": "stream",
          "name": "stdout",
          "text": [
            "<class 'pandas.core.frame.DataFrame'>\n",
            "Int64Index: 420 entries, 4172 to 31681\n",
            "Data columns (total 11 columns):\n",
            " #   Column            Non-Null Count  Dtype  \n",
            "---  ------            --------------  -----  \n",
            " 0   Country           420 non-null    object \n",
            " 1   Year              420 non-null    int64  \n",
            " 2   Gender            420 non-null    object \n",
            " 3   Age               420 non-null    object \n",
            " 4   SuicidesNo        420 non-null    int64  \n",
            " 5   Population        420 non-null    int64  \n",
            " 6   Suicides/100KPop  420 non-null    float64\n",
            " 7   CountryYear       420 non-null    object \n",
            " 8   GdpForYear        420 non-null    object \n",
            " 9   GdpPerCapita      420 non-null    int64  \n",
            " 10  Generation        420 non-null    object \n",
            "dtypes: float64(1), int64(4), object(6)\n",
            "memory usage: 39.4+ KB\n"
          ]
        }
      ]
    },
    {
      "cell_type": "markdown",
      "source": [
        "## **Análise Descritiva**"
      ],
      "metadata": {
        "id": "450Sjz79t7fn"
      }
    },
    {
      "cell_type": "code",
      "source": [
        "#Descrição da Base Global\n",
        "\n",
        "df.describe()\n"
      ],
      "metadata": {
        "colab": {
          "base_uri": "https://localhost:8080/",
          "height": 300
        },
        "id": "Pkd7s7l5QVuu",
        "outputId": "d960b2d5-ab6b-4b83-9033-e01407a9108e"
      },
      "execution_count": 171,
      "outputs": [
        {
          "output_type": "execute_result",
          "data": {
            "text/plain": [
              "               Year    SuicidesNo    Population  Suicides/100KPop  \\\n",
              "count  31756.000000  31756.000000  3.175600e+04      31756.000000   \n",
              "mean    2003.395390    228.175305  7.217454e+06         11.716668   \n",
              "std        9.760604    852.598398  5.799323e+07         21.590926   \n",
              "min     1985.000000      0.000000  2.780000e+02          0.000000   \n",
              "25%     1996.000000      2.000000  1.288210e+05          0.370000   \n",
              "50%     2004.000000     22.000000  5.468325e+05          4.285000   \n",
              "75%     2011.000000    123.000000  2.908763e+06         14.560000   \n",
              "max     2020.000000  22338.000000  1.411100e+09        515.092734   \n",
              "\n",
              "        GdpPerCapita  \n",
              "count   31756.000000  \n",
              "mean    17588.893312  \n",
              "std     19464.845704  \n",
              "min       251.000000  \n",
              "25%      3765.000000  \n",
              "50%     10062.000000  \n",
              "75%     25622.000000  \n",
              "max    126352.000000  "
            ],
            "text/html": [
              "\n",
              "  <div id=\"df-5541f23f-158a-4ed0-8212-346efb7cc1cf\">\n",
              "    <div class=\"colab-df-container\">\n",
              "      <div>\n",
              "<style scoped>\n",
              "    .dataframe tbody tr th:only-of-type {\n",
              "        vertical-align: middle;\n",
              "    }\n",
              "\n",
              "    .dataframe tbody tr th {\n",
              "        vertical-align: top;\n",
              "    }\n",
              "\n",
              "    .dataframe thead th {\n",
              "        text-align: right;\n",
              "    }\n",
              "</style>\n",
              "<table border=\"1\" class=\"dataframe\">\n",
              "  <thead>\n",
              "    <tr style=\"text-align: right;\">\n",
              "      <th></th>\n",
              "      <th>Year</th>\n",
              "      <th>SuicidesNo</th>\n",
              "      <th>Population</th>\n",
              "      <th>Suicides/100KPop</th>\n",
              "      <th>GdpPerCapita</th>\n",
              "    </tr>\n",
              "  </thead>\n",
              "  <tbody>\n",
              "    <tr>\n",
              "      <th>count</th>\n",
              "      <td>31756.000000</td>\n",
              "      <td>31756.000000</td>\n",
              "      <td>3.175600e+04</td>\n",
              "      <td>31756.000000</td>\n",
              "      <td>31756.000000</td>\n",
              "    </tr>\n",
              "    <tr>\n",
              "      <th>mean</th>\n",
              "      <td>2003.395390</td>\n",
              "      <td>228.175305</td>\n",
              "      <td>7.217454e+06</td>\n",
              "      <td>11.716668</td>\n",
              "      <td>17588.893312</td>\n",
              "    </tr>\n",
              "    <tr>\n",
              "      <th>std</th>\n",
              "      <td>9.760604</td>\n",
              "      <td>852.598398</td>\n",
              "      <td>5.799323e+07</td>\n",
              "      <td>21.590926</td>\n",
              "      <td>19464.845704</td>\n",
              "    </tr>\n",
              "    <tr>\n",
              "      <th>min</th>\n",
              "      <td>1985.000000</td>\n",
              "      <td>0.000000</td>\n",
              "      <td>2.780000e+02</td>\n",
              "      <td>0.000000</td>\n",
              "      <td>251.000000</td>\n",
              "    </tr>\n",
              "    <tr>\n",
              "      <th>25%</th>\n",
              "      <td>1996.000000</td>\n",
              "      <td>2.000000</td>\n",
              "      <td>1.288210e+05</td>\n",
              "      <td>0.370000</td>\n",
              "      <td>3765.000000</td>\n",
              "    </tr>\n",
              "    <tr>\n",
              "      <th>50%</th>\n",
              "      <td>2004.000000</td>\n",
              "      <td>22.000000</td>\n",
              "      <td>5.468325e+05</td>\n",
              "      <td>4.285000</td>\n",
              "      <td>10062.000000</td>\n",
              "    </tr>\n",
              "    <tr>\n",
              "      <th>75%</th>\n",
              "      <td>2011.000000</td>\n",
              "      <td>123.000000</td>\n",
              "      <td>2.908763e+06</td>\n",
              "      <td>14.560000</td>\n",
              "      <td>25622.000000</td>\n",
              "    </tr>\n",
              "    <tr>\n",
              "      <th>max</th>\n",
              "      <td>2020.000000</td>\n",
              "      <td>22338.000000</td>\n",
              "      <td>1.411100e+09</td>\n",
              "      <td>515.092734</td>\n",
              "      <td>126352.000000</td>\n",
              "    </tr>\n",
              "  </tbody>\n",
              "</table>\n",
              "</div>\n",
              "      <button class=\"colab-df-convert\" onclick=\"convertToInteractive('df-5541f23f-158a-4ed0-8212-346efb7cc1cf')\"\n",
              "              title=\"Convert this dataframe to an interactive table.\"\n",
              "              style=\"display:none;\">\n",
              "        \n",
              "  <svg xmlns=\"http://www.w3.org/2000/svg\" height=\"24px\"viewBox=\"0 0 24 24\"\n",
              "       width=\"24px\">\n",
              "    <path d=\"M0 0h24v24H0V0z\" fill=\"none\"/>\n",
              "    <path d=\"M18.56 5.44l.94 2.06.94-2.06 2.06-.94-2.06-.94-.94-2.06-.94 2.06-2.06.94zm-11 1L8.5 8.5l.94-2.06 2.06-.94-2.06-.94L8.5 2.5l-.94 2.06-2.06.94zm10 10l.94 2.06.94-2.06 2.06-.94-2.06-.94-.94-2.06-.94 2.06-2.06.94z\"/><path d=\"M17.41 7.96l-1.37-1.37c-.4-.4-.92-.59-1.43-.59-.52 0-1.04.2-1.43.59L10.3 9.45l-7.72 7.72c-.78.78-.78 2.05 0 2.83L4 21.41c.39.39.9.59 1.41.59.51 0 1.02-.2 1.41-.59l7.78-7.78 2.81-2.81c.8-.78.8-2.07 0-2.86zM5.41 20L4 18.59l7.72-7.72 1.47 1.35L5.41 20z\"/>\n",
              "  </svg>\n",
              "      </button>\n",
              "      \n",
              "  <style>\n",
              "    .colab-df-container {\n",
              "      display:flex;\n",
              "      flex-wrap:wrap;\n",
              "      gap: 12px;\n",
              "    }\n",
              "\n",
              "    .colab-df-convert {\n",
              "      background-color: #E8F0FE;\n",
              "      border: none;\n",
              "      border-radius: 50%;\n",
              "      cursor: pointer;\n",
              "      display: none;\n",
              "      fill: #1967D2;\n",
              "      height: 32px;\n",
              "      padding: 0 0 0 0;\n",
              "      width: 32px;\n",
              "    }\n",
              "\n",
              "    .colab-df-convert:hover {\n",
              "      background-color: #E2EBFA;\n",
              "      box-shadow: 0px 1px 2px rgba(60, 64, 67, 0.3), 0px 1px 3px 1px rgba(60, 64, 67, 0.15);\n",
              "      fill: #174EA6;\n",
              "    }\n",
              "\n",
              "    [theme=dark] .colab-df-convert {\n",
              "      background-color: #3B4455;\n",
              "      fill: #D2E3FC;\n",
              "    }\n",
              "\n",
              "    [theme=dark] .colab-df-convert:hover {\n",
              "      background-color: #434B5C;\n",
              "      box-shadow: 0px 1px 3px 1px rgba(0, 0, 0, 0.15);\n",
              "      filter: drop-shadow(0px 1px 2px rgba(0, 0, 0, 0.3));\n",
              "      fill: #FFFFFF;\n",
              "    }\n",
              "  </style>\n",
              "\n",
              "      <script>\n",
              "        const buttonEl =\n",
              "          document.querySelector('#df-5541f23f-158a-4ed0-8212-346efb7cc1cf button.colab-df-convert');\n",
              "        buttonEl.style.display =\n",
              "          google.colab.kernel.accessAllowed ? 'block' : 'none';\n",
              "\n",
              "        async function convertToInteractive(key) {\n",
              "          const element = document.querySelector('#df-5541f23f-158a-4ed0-8212-346efb7cc1cf');\n",
              "          const dataTable =\n",
              "            await google.colab.kernel.invokeFunction('convertToInteractive',\n",
              "                                                     [key], {});\n",
              "          if (!dataTable) return;\n",
              "\n",
              "          const docLinkHtml = 'Like what you see? Visit the ' +\n",
              "            '<a target=\"_blank\" href=https://colab.research.google.com/notebooks/data_table.ipynb>data table notebook</a>'\n",
              "            + ' to learn more about interactive tables.';\n",
              "          element.innerHTML = '';\n",
              "          dataTable['output_type'] = 'display_data';\n",
              "          await google.colab.output.renderOutput(dataTable, element);\n",
              "          const docLink = document.createElement('div');\n",
              "          docLink.innerHTML = docLinkHtml;\n",
              "          element.appendChild(docLink);\n",
              "        }\n",
              "      </script>\n",
              "    </div>\n",
              "  </div>\n",
              "  "
            ]
          },
          "metadata": {},
          "execution_count": 171
        }
      ]
    },
    {
      "cell_type": "code",
      "source": [
        "#Descrição da Base Brasileira\n",
        "\n",
        "df_br.describe()"
      ],
      "metadata": {
        "colab": {
          "base_uri": "https://localhost:8080/",
          "height": 300
        },
        "id": "rRPBvyZoQ6-9",
        "outputId": "1d8fe340-251b-4678-ca55-5372841fd086"
      },
      "execution_count": 172,
      "outputs": [
        {
          "output_type": "execute_result",
          "data": {
            "text/plain": [
              "              Year   SuicidesNo    Population  Suicides/100KPop  GdpPerCapita\n",
              "count   420.000000   420.000000  4.200000e+02        420.000000    420.000000\n",
              "mean   2002.114286   609.473810  3.566643e+07          5.211175   6388.800000\n",
              "std      10.290589   649.538556  6.333859e+07          5.580818   3610.906707\n",
              "min    1985.000000     0.000000  6.556210e+05          0.000000   1898.000000\n",
              "25%    1993.000000    86.250000  9.971504e+06          0.715592   3376.000000\n",
              "50%    2002.000000   352.000000  1.585745e+07          2.555000   5313.000000\n",
              "75%    2011.000000   970.500000  1.779748e+07          9.120000   9283.000000\n",
              "max    2020.000000  3238.000000  2.131963e+08         23.920000  14245.000000"
            ],
            "text/html": [
              "\n",
              "  <div id=\"df-1dc13071-ad55-40dc-9339-d9dfe321d380\">\n",
              "    <div class=\"colab-df-container\">\n",
              "      <div>\n",
              "<style scoped>\n",
              "    .dataframe tbody tr th:only-of-type {\n",
              "        vertical-align: middle;\n",
              "    }\n",
              "\n",
              "    .dataframe tbody tr th {\n",
              "        vertical-align: top;\n",
              "    }\n",
              "\n",
              "    .dataframe thead th {\n",
              "        text-align: right;\n",
              "    }\n",
              "</style>\n",
              "<table border=\"1\" class=\"dataframe\">\n",
              "  <thead>\n",
              "    <tr style=\"text-align: right;\">\n",
              "      <th></th>\n",
              "      <th>Year</th>\n",
              "      <th>SuicidesNo</th>\n",
              "      <th>Population</th>\n",
              "      <th>Suicides/100KPop</th>\n",
              "      <th>GdpPerCapita</th>\n",
              "    </tr>\n",
              "  </thead>\n",
              "  <tbody>\n",
              "    <tr>\n",
              "      <th>count</th>\n",
              "      <td>420.000000</td>\n",
              "      <td>420.000000</td>\n",
              "      <td>4.200000e+02</td>\n",
              "      <td>420.000000</td>\n",
              "      <td>420.000000</td>\n",
              "    </tr>\n",
              "    <tr>\n",
              "      <th>mean</th>\n",
              "      <td>2002.114286</td>\n",
              "      <td>609.473810</td>\n",
              "      <td>3.566643e+07</td>\n",
              "      <td>5.211175</td>\n",
              "      <td>6388.800000</td>\n",
              "    </tr>\n",
              "    <tr>\n",
              "      <th>std</th>\n",
              "      <td>10.290589</td>\n",
              "      <td>649.538556</td>\n",
              "      <td>6.333859e+07</td>\n",
              "      <td>5.580818</td>\n",
              "      <td>3610.906707</td>\n",
              "    </tr>\n",
              "    <tr>\n",
              "      <th>min</th>\n",
              "      <td>1985.000000</td>\n",
              "      <td>0.000000</td>\n",
              "      <td>6.556210e+05</td>\n",
              "      <td>0.000000</td>\n",
              "      <td>1898.000000</td>\n",
              "    </tr>\n",
              "    <tr>\n",
              "      <th>25%</th>\n",
              "      <td>1993.000000</td>\n",
              "      <td>86.250000</td>\n",
              "      <td>9.971504e+06</td>\n",
              "      <td>0.715592</td>\n",
              "      <td>3376.000000</td>\n",
              "    </tr>\n",
              "    <tr>\n",
              "      <th>50%</th>\n",
              "      <td>2002.000000</td>\n",
              "      <td>352.000000</td>\n",
              "      <td>1.585745e+07</td>\n",
              "      <td>2.555000</td>\n",
              "      <td>5313.000000</td>\n",
              "    </tr>\n",
              "    <tr>\n",
              "      <th>75%</th>\n",
              "      <td>2011.000000</td>\n",
              "      <td>970.500000</td>\n",
              "      <td>1.779748e+07</td>\n",
              "      <td>9.120000</td>\n",
              "      <td>9283.000000</td>\n",
              "    </tr>\n",
              "    <tr>\n",
              "      <th>max</th>\n",
              "      <td>2020.000000</td>\n",
              "      <td>3238.000000</td>\n",
              "      <td>2.131963e+08</td>\n",
              "      <td>23.920000</td>\n",
              "      <td>14245.000000</td>\n",
              "    </tr>\n",
              "  </tbody>\n",
              "</table>\n",
              "</div>\n",
              "      <button class=\"colab-df-convert\" onclick=\"convertToInteractive('df-1dc13071-ad55-40dc-9339-d9dfe321d380')\"\n",
              "              title=\"Convert this dataframe to an interactive table.\"\n",
              "              style=\"display:none;\">\n",
              "        \n",
              "  <svg xmlns=\"http://www.w3.org/2000/svg\" height=\"24px\"viewBox=\"0 0 24 24\"\n",
              "       width=\"24px\">\n",
              "    <path d=\"M0 0h24v24H0V0z\" fill=\"none\"/>\n",
              "    <path d=\"M18.56 5.44l.94 2.06.94-2.06 2.06-.94-2.06-.94-.94-2.06-.94 2.06-2.06.94zm-11 1L8.5 8.5l.94-2.06 2.06-.94-2.06-.94L8.5 2.5l-.94 2.06-2.06.94zm10 10l.94 2.06.94-2.06 2.06-.94-2.06-.94-.94-2.06-.94 2.06-2.06.94z\"/><path d=\"M17.41 7.96l-1.37-1.37c-.4-.4-.92-.59-1.43-.59-.52 0-1.04.2-1.43.59L10.3 9.45l-7.72 7.72c-.78.78-.78 2.05 0 2.83L4 21.41c.39.39.9.59 1.41.59.51 0 1.02-.2 1.41-.59l7.78-7.78 2.81-2.81c.8-.78.8-2.07 0-2.86zM5.41 20L4 18.59l7.72-7.72 1.47 1.35L5.41 20z\"/>\n",
              "  </svg>\n",
              "      </button>\n",
              "      \n",
              "  <style>\n",
              "    .colab-df-container {\n",
              "      display:flex;\n",
              "      flex-wrap:wrap;\n",
              "      gap: 12px;\n",
              "    }\n",
              "\n",
              "    .colab-df-convert {\n",
              "      background-color: #E8F0FE;\n",
              "      border: none;\n",
              "      border-radius: 50%;\n",
              "      cursor: pointer;\n",
              "      display: none;\n",
              "      fill: #1967D2;\n",
              "      height: 32px;\n",
              "      padding: 0 0 0 0;\n",
              "      width: 32px;\n",
              "    }\n",
              "\n",
              "    .colab-df-convert:hover {\n",
              "      background-color: #E2EBFA;\n",
              "      box-shadow: 0px 1px 2px rgba(60, 64, 67, 0.3), 0px 1px 3px 1px rgba(60, 64, 67, 0.15);\n",
              "      fill: #174EA6;\n",
              "    }\n",
              "\n",
              "    [theme=dark] .colab-df-convert {\n",
              "      background-color: #3B4455;\n",
              "      fill: #D2E3FC;\n",
              "    }\n",
              "\n",
              "    [theme=dark] .colab-df-convert:hover {\n",
              "      background-color: #434B5C;\n",
              "      box-shadow: 0px 1px 3px 1px rgba(0, 0, 0, 0.15);\n",
              "      filter: drop-shadow(0px 1px 2px rgba(0, 0, 0, 0.3));\n",
              "      fill: #FFFFFF;\n",
              "    }\n",
              "  </style>\n",
              "\n",
              "      <script>\n",
              "        const buttonEl =\n",
              "          document.querySelector('#df-1dc13071-ad55-40dc-9339-d9dfe321d380 button.colab-df-convert');\n",
              "        buttonEl.style.display =\n",
              "          google.colab.kernel.accessAllowed ? 'block' : 'none';\n",
              "\n",
              "        async function convertToInteractive(key) {\n",
              "          const element = document.querySelector('#df-1dc13071-ad55-40dc-9339-d9dfe321d380');\n",
              "          const dataTable =\n",
              "            await google.colab.kernel.invokeFunction('convertToInteractive',\n",
              "                                                     [key], {});\n",
              "          if (!dataTable) return;\n",
              "\n",
              "          const docLinkHtml = 'Like what you see? Visit the ' +\n",
              "            '<a target=\"_blank\" href=https://colab.research.google.com/notebooks/data_table.ipynb>data table notebook</a>'\n",
              "            + ' to learn more about interactive tables.';\n",
              "          element.innerHTML = '';\n",
              "          dataTable['output_type'] = 'display_data';\n",
              "          await google.colab.output.renderOutput(dataTable, element);\n",
              "          const docLink = document.createElement('div');\n",
              "          docLink.innerHTML = docLinkHtml;\n",
              "          element.appendChild(docLink);\n",
              "        }\n",
              "      </script>\n",
              "    </div>\n",
              "  </div>\n",
              "  "
            ]
          },
          "metadata": {},
          "execution_count": 172
        }
      ]
    },
    {
      "cell_type": "markdown",
      "source": [
        "## **Grupos de Dados**"
      ],
      "metadata": {
        "id": "yTxcaqBBWWui"
      }
    },
    {
      "cell_type": "code",
      "source": [
        "#Total Suicidios da Base Global\n",
        "t_scd=df['SuicidesNo'].sum()\n",
        "\n",
        "#Total Suicidios da Base Brasileira\n",
        "tbr_scd=df_br['SuicidesNo'].sum()\n",
        "\n",
        "#Agrupando número de suícidios por Ano\n",
        "grp_year = df.groupby(['Year']).SuicidesNo.sum()\n",
        "\n",
        "#Agrupando número de suícidios por Gênero\n",
        "grp_gender = df.groupby(['Gender']).SuicidesNo.sum()\n",
        "\n",
        "#Agrupando número de suícidios por Faixa Etária\n",
        "grp_age = df.groupby(['Age']).SuicidesNo.sum()\n",
        "\n",
        "#Agrupando número de suícidios por Gênero e Ano\n",
        "ygrp_gender = df.groupby(['Gender', 'Year']).SuicidesNo.sum()\n",
        "\n",
        "#Agrupando número de suícidios por Faixa Etária e Ano\n",
        "ygrp_age = df.groupby(['Age','Year']).SuicidesNo.sum()\n",
        "\n",
        "#Agrupando número de suícidios por Country\n",
        "grp_cnty = df.groupby(['Country']).SuicidesNo.sum()\n",
        "\n",
        "#Agrupando número de suícidios por Country e Ano\n",
        "ygrp_cnty = df.groupby(['Country','Year']).SuicidesNo.sum()\n",
        "\n",
        "#Total População da Base Global\n",
        "pop_total=df['Population'].sum()\n",
        "\n",
        "#Total População da Base Brasileira\n",
        "popbr_total=df_br['Population'].sum()\n",
        "\n",
        "#Total População da Base Global por Ano\n",
        "ypop_total=df.groupby(['Year']).Population.sum()\n",
        "\n",
        "#Total População da Base Brasileira por Ano\n",
        "ypopbr_total=df_br.groupby(['Year']).Population.sum()\n",
        "\n"
      ],
      "metadata": {
        "id": "5PoOQ5ooWeg4"
      },
      "execution_count": 173,
      "outputs": []
    },
    {
      "cell_type": "markdown",
      "source": [
        "## **Global Overview**"
      ],
      "metadata": {
        "id": "RcN5VfzPuBa3"
      }
    },
    {
      "cell_type": "code",
      "source": [
        "#Suicidios Anuais\n",
        "grp_year.plot.bar(title='Suicídios por Ano',color=['olive'])"
      ],
      "metadata": {
        "colab": {
          "base_uri": "https://localhost:8080/",
          "height": 511
        },
        "id": "eRUcpcFKh09x",
        "outputId": "3a63fadd-bcfc-433b-9349-dfbf23fc6b37"
      },
      "execution_count": 202,
      "outputs": [
        {
          "output_type": "execute_result",
          "data": {
            "text/plain": [
              "<Axes: title={'center': 'Suicídios por Ano'}, xlabel='Year'>"
            ]
          },
          "metadata": {},
          "execution_count": 202
        },
        {
          "output_type": "display_data",
          "data": {
            "text/plain": [
              "<Figure size 640x480 with 1 Axes>"
            ],
            "image/png": "[encoded data removed]"
          },
          "metadata": {}
        }
      ]
    },
    {
      "cell_type": "code",
      "source": [
        "#calculando porcentagem por ano\n",
        "pyr = 100*grp_year / ypop_total\n",
        "\n",
        "#plotando gráfico de barras\n",
        "pyr.plot.bar(title='Porcentagem: Suicidios sobre a População.', color=['olive'])"
      ],
      "metadata": {
        "colab": {
          "base_uri": "https://localhost:8080/",
          "height": 510
        },
        "id": "kuxAJejhltml",
        "outputId": "65644db4-20c9-4433-89da-6c9044aea98f"
      },
      "execution_count": 201,
      "outputs": [
        {
          "output_type": "execute_result",
          "data": {
            "text/plain": [
              "<Axes: title={'center': 'Porcentagem: Suicidios sobre a População.'}, xlabel='Year'>"
            ]
          },
          "metadata": {},
          "execution_count": 201
        },
        {
          "output_type": "display_data",
          "data": {
            "text/plain": [
              "<Figure size 640x480 with 1 Axes>"
            ],
            "image/png": "[encoded data removed]"
          },
          "metadata": {}
        }
      ]
    },
    {
      "cell_type": "code",
      "source": [
        "# PAÍSES COM MAIORES NÚMEROS DE SUICÍDIOS POR 100 MIL HABITANTES\n",
        "\n",
        "suicidios = []\n",
        "for paises in df.Country.unique():\n",
        "    suicidios.append(sum(df[df['Country'] == paises].SuicidesNo))\n",
        "\n",
        "suicidios = pd.DataFrame(suicidios, columns = ['suicidios'])\n",
        "paises = pd.DataFrame(df.Country.unique(), columns=['paises'])\n",
        "SuicidesNo = pd.concat([suicidios, paises], axis = 1)\n",
        "\n",
        "SuicidesNo = SuicidesNo.sort_values(by = 'suicidios', ascending = False)\n",
        "\n",
        "fig, ax = plt.subplots(figsize = (10,5))\n",
        "sns.barplot(y = SuicidesNo.paises[:15], x = SuicidesNo.suicidios[:15], palette='plasma')\n",
        "\n",
        "plt.tight_layout()"
      ],
      "metadata": {
        "colab": {
          "base_uri": "https://localhost:8080/",
          "height": 507
        },
        "id": "OeiiuYInzS8c",
        "outputId": "ceacf609-f346-4f01-e494-2f627924f5a5"
      },
      "execution_count": 192,
      "outputs": [
        {
          "output_type": "display_data",
          "data": {
            "text/plain": [
              "<Figure size 1000x500 with 1 Axes>"
            ],
            "image/png": "[encoded data removed]"
          },
          "metadata": {}
        }
      ]
    },
    {
      "cell_type": "markdown",
      "source": [
        "### **Gênero**"
      ],
      "metadata": {
        "id": "US_exSA2hc8t"
      }
    },
    {
      "cell_type": "code",
      "source": [
        "#calculando porcentagem por genero\n",
        "pgnd = (grp_gender / t_scd)\n",
        "\n",
        "#plotando gráfico de genero\n",
        "pgnd.plot.pie(autopct='%1.1f%%', title='Porcentagem de Suicídios por Sexo.')\n"
      ],
      "metadata": {
        "colab": {
          "base_uri": "https://localhost:8080/",
          "height": 446
        },
        "id": "kK37Ydl5bpwB",
        "outputId": "b4c961c6-4768-4877-85fa-5da7ec40cb86"
      },
      "execution_count": 176,
      "outputs": [
        {
          "output_type": "execute_result",
          "data": {
            "text/plain": [
              "<Axes: title={'center': 'Porcentagem de Suicídios por Sexo.'}, ylabel='SuicidesNo'>"
            ]
          },
          "metadata": {},
          "execution_count": 176
        },
        {
          "output_type": "display_data",
          "data": {
            "text/plain": [
              "<Figure size 640x480 with 1 Axes>"
            ],
            "image/png": "[encoded data removed]"
          },
          "metadata": {}
        }
      ]
    }
  ]
}