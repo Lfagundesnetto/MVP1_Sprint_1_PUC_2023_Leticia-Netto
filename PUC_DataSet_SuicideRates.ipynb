{
  "nbformat": 4,
  "nbformat_minor": 0,
  "metadata": {
    "colab": {
      "provenance": [],
      "toc_visible": true,
      "mount_file_id": "1NRq_F43BEZu0N5fAUwu4l56OyVVJcMWJ",
      "authorship_tag": "ABX9TyMUWPDr6J6DRFxFmULQQJMR",
      "include_colab_link": true
    },
    "kernelspec": {
      "name": "python3",
      "display_name": "Python 3"
    },
    "language_info": {
      "name": "python"
    }
  },
  "cells": [
    {
      "cell_type": "markdown",
      "metadata": {
        "id": "view-in-github",
        "colab_type": "text"
      },
      "source": [
        "<a href=\"https://colab.research.google.com/github/Lfagundesnetto/MVP1_Sprint_1_PUC_2023_Leticia-Netto/blob/main/PUC_DataSet_SuicideRates.ipynb\" target=\"_parent\"><img src=\"https://colab.research.google.com/assets/colab-badge.svg\" alt=\"Open In Colab\"/></a>"
      ]
    },
    {
      "cell_type": "markdown",
      "source": [
        "# **MVP - Sprint I**\n",
        "*Leticia Fagundes Netto*\n",
        "\n",
        "---"
      ],
      "metadata": {
        "id": "nM3fXDP0L-Ex"
      }
    },
    {
      "cell_type": "markdown",
      "source": [
        "## Overview: Suícidios no Brasil\n",
        "\n",
        "**Definição do Problema**\n",
        "\n",
        "O trab\n"
      ],
      "metadata": {
        "id": "AW0xtMHCM12L"
      }
    },
    {
      "cell_type": "code",
      "source": [
        "#Importar pacotes\n",
        "import numpy as np\n",
        "import pandas as pd               #manipulação de dados;\n",
        "import matplotlib.pyplot as plt   #criação de gráficos e visualização de dados;\n",
        "import seaborn as sns             #criação de gráficos e visualização de dados;\n",
        "\n",
        "%matplotlib inline\n",
        "\n",
        "#Importar dataset salvo no github\n",
        "df = pd.read_csv(\"https://raw.githubusercontent.com/Lfagundesnetto/MVP1_Sprint_1_PUC_2023_Leticia-Netto/main/dataset_suicide_rates_85_21.csv\")\n",
        "\n",
        "#Análise dos Dados\n",
        "#Dimensões da Base\n",
        "print (\"Formato dataframe: \", df.shape) #Formato dataframe:  (31756, 12)\n",
        "\n",
        "     "
      ],
      "metadata": {
        "colab": {
          "base_uri": "https://localhost:8080/"
        },
        "id": "6Ks5Yoa86y9O",
        "outputId": "33d6508b-c7d0-4304-f253-3c21b604a1c0"
      },
      "execution_count": null,
      "outputs": [
        {
          "output_type": "stream",
          "name": "stdout",
          "text": [
            "Formato dataframe:  (31756, 12)\n"
          ]
        }
      ]
    }
  ]
}